{
  "nbformat": 4,
  "nbformat_minor": 0,
  "metadata": {
    "colab": {
      "provenance": [],
      "authorship_tag": "ABX9TyMTNwwnmXK3mCnEkkENwdYk",
      "include_colab_link": true
    },
    "kernelspec": {
      "name": "python3",
      "display_name": "Python 3"
    },
    "language_info": {
      "name": "python"
    }
  },
  "cells": [
    {
      "cell_type": "markdown",
      "metadata": {
        "id": "view-in-github",
        "colab_type": "text"
      },
      "source": [
        "<a href=\"https://colab.research.google.com/github/Juanzi2006/FCFM-TAREAS/blob/main/Colab/semana_1.ipynb\" target=\"_parent\"><img src=\"https://colab.research.google.com/assets/colab-badge.svg\" alt=\"Open In Colab\"/></a>"
      ]
    },
    {
      "cell_type": "code",
      "execution_count": null,
      "metadata": {
        "id": "VvD4P8DNgCiH"
      },
      "outputs": [],
      "source": []
    },
    {
      "cell_type": "code",
      "source": [
        "# ¿Cual es la funcion de la memoria secundaria en una computadora?\n",
        "# Respuesta: C)\n",
        "\n",
        "# ¿Que es un programa?\n",
        "# Respuesta: (Podemos definir un programa, en su forma más básica,\n",
        "# como una secuencia de declaraciones o sentencias que han sido diseñadas para hacer algo)\n",
        "\n",
        "# ¿Cual es la diferencia entre un compilador y un interprete?\n",
        "# Respuesta:  (Un intérprete lee el código fuente de los programas tal y como ha sido escrito por\n",
        "#  el programador, lo analiza, e interpreta sus instrucciones sobre la marcha y Un compilador necesita que le entreguen\n",
        "#  el programa completo en un fichero)\n",
        "\n",
        "# ¿Cual de los siguientes contiene “codigo maquina”?\n",
        "# Respuesta: A)\n",
        "\n",
        "# ¿Que esta mal en el siguiente codigo?\n",
        "# Respuesta: (esta escrito mal el print por eso sale error)\n",
        "\n",
        "# ¿En que lugar del computador queda almacenada una variable, como en este caso “x”,despues de ejecutar la siguiente lınea de Python?\n",
        "# Respuesta: A)\n",
        "\n",
        "# ¿Que mostrara en pantalla el siguiente programa?\n",
        "# Respuesta: B)\n",
        "\n",
        "# ¿Como puedes corregir un “Error de sintaxis”?\n",
        "# Respuesta: ( Un error de sintaxis significa\n",
        "# que has violado las reglas “gramaticales” de Python. Python hace todo lo\n",
        "# que puede para señalar el punto exacto, la línea y el carácter donde ha detectado el fallo)\n",
        "Respuesta: (Podemos definir un programa, en su forma más básica,\n",
        "como una secuencia de declaraciones o sentencias que han sido diseñadas para hacer algo)\n",
        "\n",
        "3-# ¿Cual es la diferencia entre un compilador y un interprete?\n",
        "Respuesta:  (Un intérprete lee el código fuente de los programas tal y como ha sido escrito por\n",
        " el programador, lo analiza, e interpreta sus instrucciones sobre la marcha y Un compilador necesita que le entreguen\n",
        " el programa completo en un fichero)\n",
        "# ¿Cual es la funcion de la memoria secundaria en una computadora?\n",
        "# Respuesta: C)\n",
        "\n",
        "# ¿Que es un programa?\n",
        "# Respuesta: (Podemos definir un programa, en su forma más básica,\n",
        "# como una secuencia de declaraciones o sentencias que han sido diseñadas para hacer algo)\n",
        "\n",
        "# ¿Cual es la diferencia entre un compilador y un interprete?\n",
        "# Respuesta:  (Un intérprete lee el código fuente de los programas tal y como ha sido escrito por\n",
        "#  el programador, lo analiza, e interpreta sus instrucciones sobre la marcha y Un compilador necesita que le entreguen\n",
        "#  el programa completo en un fichero)\n",
        "\n",
        "# ¿Cual de los siguientes contiene “codigo maquina”?\n",
        "# Respuesta: A)\n",
        "\n",
        "# ¿Que esta mal en el siguiente codigo?\n",
        "# Respuesta: (esta escrito mal el print por eso sale error)\n",
        "\n",
        "# ¿En que lugar del computador queda almacenada una variable, como en este caso “x”,despues de ejecutar la siguiente lınea de Python?\n",
        "# Respuesta: A)\n",
        "\n",
        "# ¿Que mostrara en pantalla el siguiente programa?\n",
        "# Respuesta: B)\n",
        "\n",
        "# ¿Como puedes corregir un “Error de sintaxis”?\n",
        "# Respuesta: ( Un error de sintaxis significa\n",
        "# que has violado las reglas “gramaticales” de Python. Python hace todo lo\n",
        "# que puede para señalar el punto exacto, la línea y el carácter donde ha detectado el fallo)\n",
        "#Respuesta: (Podemos definir un programa, en su forma más básica,\n",
        "#como una secuencia de declaraciones o sentencias que han sido diseñadas para hacer algo)\n",
        "\n",
        "# ¿Cual es la diferencia entre un compilador y un interprete?\n",
        "#Respuesta:  (Un intérprete lee el código fuente de los programas tal y como ha sido escrito por\n",
        "# el programador, lo analiza, e interpreta sus instrucciones sobre la marcha y Un compilador necesita que le entreguen\n",
        "# el programa completo en un fichero)\n",
        "\n",
        "#¿Cual de los siguientes contiene “codigo maquina”?\n",
        "#Respuesta: A)\n",
        "\n",
        "#¿Que esta mal en el siguiente codigo?\n",
        "#Respuesta: (esta escrito mal el print por eso sale error)\n",
        "\n",
        "# ¿En que lugar del computador queda almacenada una variable, como en este caso “x”,despues de ejecutar la siguiente lınea de Python?\n",
        "#Respuesta: A)\n",
        "\n",
        "# ¿Que mostrara en pantalla el siguiente programa?\n",
        "#Respuesta: B)\n",
        "\n",
        "# ¿Como puedes corregir un “Error de sintaxis”?\n",
        "#Respuesta: ( Un error de sintaxis significa\n",
        "# que has violado las reglas “gramaticales” de Python. Python hace todo lo\n",
        "# que puede para señalar el punto exacto, la línea y el carácter donde ha detectado el fallo)\n",
        "Respuesta: (esta escrito mal el print por eso sale error)\n",
        "\n",
        "6-# ¿En que lugar del computador queda almacenada una variable, como en este caso “x”,despues de ejecutar la siguiente lınea de Python?\n",
        "Respuesta: A)\n",
        "\n",
        "7-# ¿Que mostrara en pantalla el siguiente programa?\n",
        "Respuesta: B)\n",
        "\n",
        "8-# ¿Como puedes corregir un “Error de sintaxis”?\n",
        "Respuesta: ( Un error de sintaxis significa\n",
        " que has violado las reglas “gramaticales” de Python. Python hace todo lo\n",
        " que puede para señalar el punto exacto, la línea y el carácter donde ha de\n",
        "tectado el fallo)"
      ],
      "metadata": {
        "colab": {
          "base_uri": "https://localhost:8080/",
          "height": 106
        },
        "id": "eB1UyXkMgfIw",
        "outputId": "51d5c7ea-9dc8-4ee9-fd61-262e381c65f3"
      },
      "execution_count": 8,
      "outputs": [
        {
          "output_type": "error",
          "ename": "SyntaxError",
          "evalue": "unmatched ')' (<ipython-input-8-6fe04d1da3f8>, line 91)",
          "traceback": [
            "\u001b[0;36m  File \u001b[0;32m\"<ipython-input-8-6fe04d1da3f8>\"\u001b[0;36m, line \u001b[0;32m91\u001b[0m\n\u001b[0;31m    Respuesta: A)\u001b[0m\n\u001b[0m                ^\u001b[0m\n\u001b[0;31mSyntaxError\u001b[0m\u001b[0;31m:\u001b[0m unmatched ')'\n"
          ]
        }
      ]
    },
    {
      "cell_type": "markdown",
      "source": [],
      "metadata": {
        "id": "dVExepY4UuR0"
      }
    },
    {
      "cell_type": "code",
      "source": [],
      "metadata": {
        "id": "e-8YaLTbUu2R"
      },
      "execution_count": null,
      "outputs": []
    }
  ]
}